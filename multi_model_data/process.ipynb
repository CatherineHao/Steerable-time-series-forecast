{
 "cells": [
  {
   "cell_type": "code",
   "execution_count": 1,
   "metadata": {},
   "outputs": [],
   "source": [
    "import pandas as pd\n",
    "import numpy as np"
   ]
  },
  {
   "cell_type": "code",
   "execution_count": 31,
   "metadata": {},
   "outputs": [],
   "source": [
    "\n",
    "filepath = './weighted12_skip6.csv'\n",
    "file = pd.read_csv(filepath)\n",
    "file_len = len(file)\n",
    "smooth = ['weighted12'] * file_len\n",
    "skip = [6] * file_len\n",
    "file['smooth'] = smooth\n",
    "file['skip'] = skip\n",
    "file.to_csv(filepath, header=True,index=None)\n",
    "\n"
   ]
  },
  {
   "cell_type": "code",
   "execution_count": 87,
   "metadata": {},
   "outputs": [],
   "source": [
    "# 处理数据中oredict的[] 和 \\n\n",
    "file_path = 'E:/vis23_xai_paper/code/Steerable-time-series-forecast/0214_model_data/weighted13_skip13_0.8.csv'\n",
    "file = pd.read_csv(filepath)\n",
    "file = file['predict_data']\n",
    "for i in range (len(file)):\n",
    "    tmp = file['predict_data'][i]\n",
    "    # print('tmp:',tmp)\n",
    "    new_tmp = tmp.lstrip('[')\n",
    "    new_tmp = new_tmp.rstrip(']')\n",
    "    # print('new:',new_tmp)\n",
    "    new_tmp = new_tmp.replace('\\n', '')\n",
    "    new_tmp = new_tmp.replace('\\r','')\n",
    "    # print(\"new2\",new_tmp)\n",
    "    file.loc[i, 'predict_data']= new_tmp\n",
    "file.head()\n",
    "file.to_csv(file_path,header = True, index = None)"
   ]
  }
 ],
 "metadata": {
  "kernelspec": {
   "display_name": "base",
   "language": "python",
   "name": "python3"
  },
  "language_info": {
   "codemirror_mode": {
    "name": "ipython",
    "version": 3
   },
   "file_extension": ".py",
   "mimetype": "text/x-python",
   "name": "python",
   "nbconvert_exporter": "python",
   "pygments_lexer": "ipython3",
   "version": "3.9.13"
  },
  "orig_nbformat": 4
 },
 "nbformat": 4,
 "nbformat_minor": 2
}
