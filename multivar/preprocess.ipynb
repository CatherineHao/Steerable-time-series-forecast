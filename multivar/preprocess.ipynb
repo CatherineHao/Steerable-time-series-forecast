{
 "cells": [
  {
   "cell_type": "code",
   "execution_count": 8,
   "metadata": {},
   "outputs": [],
   "source": [
    "import pandas as pd\n",
    "import numpy as np\n",
    "import matplotlib.pyplot as plt\n",
    "import math"
   ]
  },
  {
   "cell_type": "code",
   "execution_count": 11,
   "metadata": {},
   "outputs": [],
   "source": [
    "# 处理数据，uv处理成风向和风速\n",
    "data = pd.read_csv('./used_multi.csv')\n",
    "wnd_dir = []\n",
    "wnd_spd = []\n",
    "for i in range(len(data)):\n",
    "    u = data['u'][i]\n",
    "    v = data['v'][i]\n",
    "    fx = 999.9\n",
    "    if (u>0) & (v>0):\n",
    "        fx = fx = 270 - math.atan(v / u) * 180 / math.pi\n",
    "    elif (u < 0) & (v > 0):\n",
    "        fx = 90 - math.atan(v / u) * 180 / math.pi\n",
    "    elif (u < 0) & (v < 0):\n",
    "        fx = 90 - math.atan(v / u) * 180 / math.pi\n",
    "    elif (u > 0) & (v < 0):\n",
    "        fx = 270 - math.atan(v / u) * 180 / math.pi\n",
    "    elif (u == 0) & (v > 0):\n",
    "        fx = 180\n",
    "    elif (u == 0) & (v < 0):\n",
    "        fx = 0\n",
    "    elif (u > 0) & (v == 0):\n",
    "        fx = 270\n",
    "    elif (u < 0) & (v == 0):\n",
    "        fx = 90\n",
    "    elif (u == 0) & (v == 0):\n",
    "        fx = 999.9\n",
    "    else:\n",
    "        fx = 999.9\n",
    "    wnd_dir.append(fx)\n",
    "\n",
    "    # 风速是uv分量的平方和\n",
    "    fs = math.sqrt(math.pow(u,2) + math.pow(v,2))\n",
    "    wnd_spd.append(fs)\n",
    "# 增加到文件中\n",
    "add_file_path = './used_multi.csv'\n",
    "data['wnd_dir'] = wnd_dir\n",
    "data['wnd_spd'] = wnd_spd\n",
    "data.to_csv(add_file_path,header=True,index=None)"
   ]
  }
 ],
 "metadata": {
  "kernelspec": {
   "display_name": "base",
   "language": "python",
   "name": "python3"
  },
  "language_info": {
   "codemirror_mode": {
    "name": "ipython",
    "version": 3
   },
   "file_extension": ".py",
   "mimetype": "text/x-python",
   "name": "python",
   "nbconvert_exporter": "python",
   "pygments_lexer": "ipython3",
   "version": "3.9.13"
  },
  "orig_nbformat": 4,
  "vscode": {
   "interpreter": {
    "hash": "ad2bdc8ecc057115af97d19610ffacc2b4e99fae6737bb82f5d7fb13d2f2c186"
   }
  }
 },
 "nbformat": 4,
 "nbformat_minor": 2
}
